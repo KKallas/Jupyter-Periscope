{
 "cells": [
  {
   "cell_type": "code",
   "execution_count": 1,
   "id": "7006bf4e-8171-4880-a9aa-9a8130f14d84",
   "metadata": {},
   "outputs": [
    {
     "data": {
      "application/vnd.jupyter.widget-view+json": {
       "model_id": "e123c45ab181416c94c7d0b4e3f6a478",
       "version_major": 2,
       "version_minor": 0
      },
      "text/plain": [
       "VBox(children=(IntProgress(value=0, description='progress: ', layout=Layout(width='90%')), Label(value='', des…"
      ]
     },
     "execution_count": 1,
     "metadata": {},
     "output_type": "execute_result"
    }
   ],
   "source": [
    "# Empire AI Automation Setup\n",
    "# Version: 0.1\n",
    "#\n",
    "# Copy and paste this as 1st cell into Your workbook to start making automation notebook\n",
    "# Use the #Factory# page to create new steps\n",
    "# More videos and tutorials @link\n",
    "# by Kaspar Kallas 2023 (kaspar.kana.kallas@gmail.com)\n",
    "\n",
    "try:\n",
    "    test = time.time()\n",
    "except:\n",
    "    import pyperclip\n",
    "    import platform\n",
    "    import time\n",
    "    import pyautogui as gui\n",
    "    import io\n",
    "    import cv2\n",
    "    import numpy as np\n",
    "    import codecs\n",
    "    import dill\n",
    "    import pandas as pd\n",
    "    import pyarrow.feather as feather\n",
    "    from ipywidgets import widgets, Image, Output\n",
    "\n",
    "class step:\n",
    "    \"\"\"\n",
    "    Empire AI step protocol 0.1\n",
    "    Inputs step('''xxx''', tries=3, timer=1, gate=1, bbox=None)\n",
    "    Output step.locations (tuples of x,y in screen space)\n",
    "    \n",
    "    \"\"\"\n",
    "    def __init__(self, payload, tries=3, timer=1, gate=1, bbox=None, kill_on_fail=True):\n",
    "        self.payloads = dill.loads(codecs.decode(payload.encode(), \"base64\"))\n",
    "        self.pattern_img = self.payloads[0]\n",
    "        self.offset = self.payloads[1]\n",
    "        self.kill_on_fail = kill_on_fail\n",
    "        self.version = 0.1\n",
    "        \n",
    "        # Try to find the pattern\n",
    "        for counter in range(tries):\n",
    "            self._find_()\n",
    "            # If enough instances have been found break out of the loop and execute next cell\n",
    "            if len(self.locations) >= gate:\n",
    "                print(\"found: \"+str(self.locations))\n",
    "                break\n",
    "            else:\n",
    "                time.sleep(timer)\n",
    "        \n",
    "        # If the pattern is not found within timeout\n",
    "        if len(self.locations) < gate:\n",
    "            pr.style={'bar_color': '#800000'}\n",
    "            pl.value=\"[STOPPED] could not find\"\n",
    "            print(\"EXCEPTION: Gate condition not met!\")\n",
    "            if kill_on_fail:\n",
    "                pr.style={'bar_color': '#808000'}\n",
    "                raise Exception(\"Gate condition not met!\")\n",
    "        \n",
    "    def _find_(self):\n",
    "        \"\"\"\n",
    "        Find pattern on the screen as many instances as possible\n",
    "        save all found locations into self.locations with correct click offset\n",
    "        \"\"\"\n",
    "        \n",
    "        self.locations = []\n",
    "        locations_found = gui.locateAllOnScreen(self.pattern_img)\n",
    "        offset = self.payloads[1]\n",
    "        \n",
    "        for loc in locations_found:\n",
    "            self.locations.append((loc.left+offset[0],loc.top+offset[1]))\n",
    "            \n",
    "def os_ctrl(short=False):\n",
    "    \"\"\"\n",
    "    Control buton string replacement to be used with pyautogui lib\n",
    "    in win/linux it is ctrl and osx cmd/command\n",
    "    \"\"\"\n",
    "    if platform.system() == 'Darwin':\n",
    "        if short:\n",
    "            return 'cmd'\n",
    "        else:\n",
    "            return 'command'\n",
    "    else:\n",
    "        return 'ctrl'\n",
    "    \n",
    "# Initalize progress bar and show it the notebook is ran standalone\n",
    "try:\n",
    "    pr.value = 0\n",
    "    pr.style={'bar_color': None}\n",
    "    #pl.value = \"\"\n",
    "except:\n",
    "    pr = widgets.IntProgress(min=0,max=100,layout=widgets.Layout(width='90%'), description=\"progress: \")\n",
    "    pl = widgets.Label(description=\"debug\")\n",
    "    pr.value = 0 \n",
    "# right click, create new view for output to have this as progress overview\n",
    "widgets.VBox([pr,pl])"
   ]
  },
  {
   "attachments": {
    "87fb0f35-6bcb-4dae-be03-42904f41c136.png": {
     "image/png": "[encoded data removed]"
    }
   },
   "cell_type": "markdown",
   "id": "5e4a6a11-be2b-4d61-80e8-2303e3ce8481",
   "metadata": {},
   "source": [
    "Next Post\n",
    "\n",
    "![image.png](attachment:87fb0f35-6bcb-4dae-be03-42904f41c136.png)"
   ]
  },
  {
   "cell_type": "code",
   "execution_count": 2,
   "id": "1de65569-fcca-4b18-8239-190fa537e6bb",
   "metadata": {},
   "outputs": [
    {
     "name": "stdout",
     "output_type": "stream",
     "text": [
      "found: [(1991, 1122)]\n"
     ]
    }
   ],
   "source": [
    "# Jupyter-Automation Step Setup\n",
    "# Version: 0.1\n",
    "#\n",
    "# Default script to be used as a template for copying ready steps to Automation Notebooks\n",
    "# If the pattern is not found on screen Exception will break the workflow\n",
    "# by Kaspar Kallas 2023 (kaspar.kana.kallas@gmail.com)\n",
    "s = step(\n",
    "    '''gASVyA0AAAAAAACMCVBJTC5JbWFnZZSMBUltYWdllJOUKYGUXZQofZSMA1JHQpRLIksihpROQowNAAD///////////////////////////////////////////////////////////////////////////////////////////////////////////////////////////////////////////////////////////////////////////////////////////////////////////////////////////////////////////////////////////////////////////////////////////////////////////////////////////////////////////////////////////////////////////////////////////////////////////////////////////////////////////////////////////////////////////////////////////////////////////////////////////////////////////////////////////////////////////////////////////////////////////////////////////////////////////////////////////////////////////////////////////////////////////////////////////////////////////////////////////////////////////////////////////////////////////////////////////////////////////////////////////////////////////////////////////////////////////////////////////////////////////////////////////////////////////////////////////////////////////////////////////////////+/v78AAACAgID///////////////////////////////////////////////////////////////////////////////////////////////////////////////////////////+fn58AAAAAAACAgID///////////////////////////////////////////////////////////////////////////////////////////////////////////////////////////+AgIAAAAAAAACAgID///////////////////////////////////////////////////////////////////////////////////////////////////////////////////////////+AgIAAAAAAAACAgID///////////////////////////////////////////////////////////////////////////////////////////////////////////////////////////+AgIAAAAAAAACAgID///////////////////////////////////////////////////////////////////////////////////////////////////////////////////////////+AgIAAAAAAAACAgID///////////////////////////////////////////////////////////////////////////////////////////////////////////////////////////+AgIAAAAAAAACAgID///////////////////////////////////////////////////////////////////////////////////////////////////////////////////////////+AgIAAAAAAAACAgID///////////////////////////////////////////////////////////////////////////////////////////////////////////////////////////+AgIAAAAAAAACAgID///////////////////////////////////////////////////////////////////////////////////////////////////////////////////////////+AgIAAAAAAAACfn5////////////////////////////////////////////////////////////////////////////////////////////////////////////////////////+fn58AAAAAAAC/v7////////////////////////////////////////////////////////////////////////////////////////////////////////////////////+fn58AAAAAAACfn5////////////////////////////////////////////////////////////////////////////////////////////////////////////////////+fn58AAAAAAACfn5////////////////////////////////////////////////////////////////////////////////////////////////////////////////////+fn58AAAAAAACfn5////////////////////////////////////////////////////////////////////////////////////////////////////////////////////+fn58AAAAAAACfn5////////////////////////////////////////////////////////////////////////////////////////////////////////////////////+fn58AAAAAAACfn5////////////////////////////////////////////////////////////////////////////////////////////////////////////////////+fn58AAAAAAACfn5////////////////////////////////////////////////////////////////////////////////////////////////////////////////////+fn58AAAAAAACfn5/////////////////////////////////////////////////////////////////////////////////////////////////////////////////////f398AAAAAAACfn5/////////////////////////////////////////////////////////////////////////////////////////////////////////////////////////f398gICCfn5////////////////////////////////////////////////////////////////////////////////////////////////////////////////////////////////////////////////////////////////////////////////////////////////////////////////////////////////////////////////////////////////////////////////////////////////////////////////////////////////////////////////////////////////////////////////////////////////////////////////////////////////////////////////////////////////////////////////////////////////////////////////////////////////////////////////////////////////////////////////////////////////////////////////////////////////////////////////////////////////////////////////////////////////////////////////////////////////////////////////////////////////////////////////////////////////////////////////////////////////////////////////////////////////////////////////////////////////////////////////////////////////////////////////////////////////////////////////////////////////////////////////////////////////////////////////////////////////////////+UZWJLE0sQhpSGlC4=''',\n",
    "    tries = 3,\n",
    "    timer = 1,\n",
    "    gate = 1,\n",
    "    bbox = None,\n",
    ")\n",
    "# Logic here\n",
    "for i in s.locations:\n",
    "    gui.click(i, clicks=1, button='left')\n",
    "    #gui.moveTo(i[0],i[1])                   # Just move the mouse no click\n",
    "    #pyperclip.copy(pyperclip.paste()+'\\n')  # Copy selected text, add newline character and copy back to clipboard\n",
    "    #gui.hotkey(os_ctrl(),'v')               # Keypress events\n",
    "    #%run ./subworkflowfile.ipynb            # Run another Notebook as subworkflow"
   ]
  },
  {
   "attachments": {
    "ee677d37-c025-416f-9f2a-5b454099deb2.png": {
     "image/png": "[encoded data removed]"
    }
   },
   "cell_type": "markdown",
   "id": "87588272-aadb-4c39-8d39-52efc1916312",
   "metadata": {},
   "source": [
    "make sure that I have not liked the post yet and get like count\n",
    "\n",
    "if the hart is read then the outline is not found and the script terminated right here\n",
    "\n",
    "![image.png](attachment:ee677d37-c025-416f-9f2a-5b454099deb2.png)"
   ]
  },
  {
   "cell_type": "code",
   "execution_count": null,
   "id": "80bb9eba-27a0-4526-8a8a-4e808799dbfd",
   "metadata": {},
   "outputs": [],
   "source": []
  }
 ],
 "metadata": {
  "kernelspec": {
   "display_name": "Python 3 (ipykernel)",
   "language": "python",
   "name": "python3"
  },
  "language_info": {
   "codemirror_mode": {
    "name": "ipython",
    "version": 3
   },
   "file_extension": ".py",
   "mimetype": "text/x-python",
   "name": "python",
   "nbconvert_exporter": "python",
   "pygments_lexer": "ipython3",
   "version": "3.10.7"
  }
 },
 "nbformat": 4,
 "nbformat_minor": 5
}
