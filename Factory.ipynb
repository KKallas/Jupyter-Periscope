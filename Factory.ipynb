{
 "cells": [
  {
   "cell_type": "markdown",
   "id": "9fa6dc79-1e34-4412-84ca-a0db2981ae2b",
   "metadata": {
    "tags": []
   },
   "source": [
    "## Setup\n",
    "Here are all the necessary bits and pieces to make all this work"
   ]
  },
  {
   "cell_type": "code",
   "execution_count": 1,
   "id": "ec1b944f-5c85-4a1e-a968-b78556278e7a",
   "metadata": {
    "tags": []
   },
   "outputs": [],
   "source": [
    "def add_menusystem():\n",
    "    global w\n",
    "    # [w] Menu system for\n",
    "    # Python REPL command bar\n",
    "    try:\n",
    "        # if empty_object exists\n",
    "        w==None\n",
    "    except:\n",
    "        # if empty object needs to be created and instance w made\n",
    "        class empty_object(object):\n",
    "            pass\n",
    "        w = empty_object()\n",
    "\n",
    "# Init run\n",
    "add_menusystem()\n",
    "# Add to toolbar\n",
    "w.add_menusystem = add_menusystem\n"
   ]
  },
  {
   "cell_type": "markdown",
   "id": "eb014c70-99d6-4938-8484-881d9e99d998",
   "metadata": {
    "tags": []
   },
   "source": [
    "### Source for generated objecrs code\n",
    "Here is the code used in the steps to save and run new steps easily\n",
    "1st cell is the step, copy the contents\n",
    "2nd cell will turn this into single line string radyu to be pasted into scope"
   ]
  },
  {
   "cell_type": "code",
   "execution_count": 116,
   "id": "087e6565-7b62-4198-aa15-3d41446e3fad",
   "metadata": {
    "tags": []
   },
   "outputs": [
    {
     "data": {
      "application/vnd.jupyter.widget-view+json": {
       "model_id": "4e752ef4862347afbbc35a64af7cee78",
       "version_major": 2,
       "version_minor": 0
      },
      "text/plain": [
       "VBox(children=(IntProgress(value=0, description='progress: ', layout=Layout(width='90%')), Label(value='', des…"
      ]
     },
     "execution_count": 116,
     "metadata": {},
     "output_type": "execute_result"
    }
   ],
   "source": [
    "# Empire AI Automation Setup\n",
    "# Version: 0.1\n",
    "#\n",
    "# Copy and paste this as 1st cell into Your workbook to start making automation notebook\n",
    "# Use the #Factory# page to create new steps\n",
    "# More videos and tutorials @link\n",
    "# by Kaspar Kallas 2023 (kaspar.kana.kallas@gmail.com)\n",
    "\n",
    "try:\n",
    "    test = time.time()\n",
    "except:\n",
    "    import pyperclip\n",
    "    import platform\n",
    "    import time\n",
    "    import pyautogui as gui\n",
    "    import io\n",
    "    import cv2\n",
    "    import numpy as np\n",
    "    import codecs\n",
    "    import dill\n",
    "    import pandas as pd\n",
    "    import pyarrow.feather as feather\n",
    "    from ipywidgets import widgets, Image, Output\n",
    "\n",
    "class step:\n",
    "    \"\"\"\n",
    "    Empire AI step protocol 0.1\n",
    "    Inputs step('''xxx''', tries=3, timer=1, gate=1, bbox=None)\n",
    "    Output step.locations (tuples of x,y in screen space)\n",
    "    \n",
    "    \"\"\"\n",
    "    def __init__(self, payload, tries=3, timer=1, gate=1, bbox=None, kill_on_fail=True):\n",
    "        self.payloads = dill.loads(codecs.decode(payload.encode(), \"base64\"))\n",
    "        self.pattern_img = self.payloads[0]\n",
    "        self.offset = self.payloads[1]\n",
    "        self.kill_on_fail = kill_on_fail\n",
    "        self.version = 0.1\n",
    "        \n",
    "        # Try to find the pattern\n",
    "        for counter in range(tries):\n",
    "            self._find_()\n",
    "            # If enough instances have been found break out of the loop and execute next cell\n",
    "            if len(self.locations) >= gate:\n",
    "                print(\"found: \"+str(self.locations))\n",
    "                break\n",
    "            else:\n",
    "                time.sleep(timer)\n",
    "        \n",
    "        # If the pattern is not found within timeout\n",
    "        if len(self.locations) < gate:\n",
    "            pr.style={'bar_color': '#800000'}\n",
    "            pl.value=\"[STOPPED] could not find\"\n",
    "            print(\"EXCEPTION: Gate condition not met!\")\n",
    "            if kill_on_fail:\n",
    "                pr.style={'bar_color': '#808000'}\n",
    "                raise Exception(\"Gate condition not met!\")\n",
    "        \n",
    "    def _find_(self):\n",
    "        \"\"\"\n",
    "        Find pattern on the screen as many instances as possible\n",
    "        save all found locations into self.locations with correct click offset\n",
    "        \"\"\"\n",
    "        \n",
    "        self.locations = []\n",
    "        locations_found = gui.locateAllOnScreen(self.pattern_img)\n",
    "        offset = self.payloads[1]\n",
    "        \n",
    "        for loc in locations_found:\n",
    "            self.locations.append((loc.left+offset[0],loc.top+offset[1]))\n",
    "            \n",
    "def os_ctrl(short=False):\n",
    "    \"\"\"\n",
    "    Control buton string replacement to be used with pyautogui lib\n",
    "    in win/linux it is ctrl and osx cmd/command\n",
    "    \"\"\"\n",
    "    if platform.system() == 'Darwin':\n",
    "        if short:\n",
    "            return 'cmd'\n",
    "        else:\n",
    "            return 'command'\n",
    "    else:\n",
    "        return 'ctrl'\n",
    "    \n",
    "# Initalize progress bar and show it the notebook is ran standalone\n",
    "try:\n",
    "    pr.value = 0\n",
    "    pr.style={'bar_color': None}\n",
    "    #pl.value = \"\"\n",
    "except:\n",
    "    pr = widgets.IntProgress(min=0,max=100,layout=widgets.Layout(width='90%'), description=\"progress: \")\n",
    "    pl = widgets.Label(description=\"debug\")\n",
    "    pr.value = 0 \n",
    "# right click, create new view for output to have this as progress overview\n",
    "widgets.VBox([pr,pl])"
   ]
  },
  {
   "cell_type": "code",
   "execution_count": 48,
   "id": "c8045da3-14a1-4d67-8805-3ba6eeb260a5",
   "metadata": {},
   "outputs": [
    {
     "data": {
      "text/plain": [
       "'# Empire AI Automation Setup\\r\\n# Version: 0.1\\r\\n#\\r\\n# Copy and paste this as 1st cell into Your workbook to start making automation notebook\\r\\n# Use the #Factory# page to create new steps\\r\\n# More videos and tutorials @link\\r\\n# by Kaspar Kallas 2023 (kaspar.kana.kallas@gmail.com)\\r\\n\\r\\ntry:\\r\\n    test = time.time()\\r\\nexcept:\\r\\n    import pyperclip\\r\\n    import platform\\r\\n    import time\\r\\n    import pyautogui as gui\\r\\n    import io\\r\\n    import cv2\\r\\n    import numpy as np\\r\\n    import codecs\\r\\n    import dill\\r\\n    import pandas as pd\\r\\n    import pyarrow.feather as feather\\r\\n    from ipywidgets import widgets, Image, Output\\r\\n\\r\\nclass step:\\r\\n    \"\"\"\\r\\n    Empire AI step protocol 0.1\\r\\n    Inputs step(\\'\\'\\'xxx\\'\\'\\', tries=3, timer=1, gate=1, bbox=None)\\r\\n    Output step.locations (tuples of x,y in screen space)\\r\\n    \\r\\n    \"\"\"\\r\\n    def __init__(self, payload, tries=3, timer=1, gate=1, bbox=None, kill_on_fail=True):\\r\\n        self.payloads = dill.loads(codecs.decode(payload.encode(), \"base64\"))\\r\\n        self.pattern_img = self.payloads[0]\\r\\n        self.offset = self.payloads[1]\\r\\n        self.kill_on_fail = kill_on_fail\\r\\n        self.version = 0.1\\r\\n        \\r\\n        # Try to find the pattern\\r\\n        for counter in range(tries):\\r\\n            self._find_()\\r\\n            # If enough instances have been found break out of the loop and execute next cell\\r\\n            if len(self.locations) >= gate:\\r\\n                print(\"found: \"+str(self.locations))\\r\\n                break\\r\\n            else:\\r\\n                time.sleep(timer)\\r\\n        \\r\\n        # If the pattern is not found within timeout\\r\\n        if len(self.locations) < gate:\\r\\n            pr.style={\\'bar_color\\': \\'#800000\\'}\\r\\n            pl.value=\"[STOPPED] could not find\"\\r\\n            print(\"EXCEPTION: Gate condition not met!\")\\r\\n            if kill_on_fail:\\r\\n                pr.style={\\'bar_color\\': \\'#808000\\'}\\r\\n                raise Exception(\"Gate condition not met!\")\\r\\n        \\r\\n    def _find_(self):\\r\\n        \"\"\"\\r\\n        Find pattern on the screen as many instances as possible\\r\\n        save all found locations into self.locations with correct click offset\\r\\n        \"\"\"\\r\\n        \\r\\n        self.locations = []\\r\\n        locations_found = gui.locateAllOnScreen(self.pattern_img)\\r\\n        offset = self.payloads[1]\\r\\n        \\r\\n        for loc in locations_found:\\r\\n            self.locations.append((loc.left+offset[0],loc.top+offset[1]))\\r\\n            \\r\\ndef os_ctrl(short=False):\\r\\n    \"\"\"\\r\\n    Control buton string replacement to be used with pyautogui lib\\r\\n    in win/linux it is ctrl and osx cmd/command\\r\\n    \"\"\"\\r\\n    if platform.system() == \\'Darwin\\':\\r\\n        if short:\\r\\n            return \\'cmd\\'\\r\\n        else:\\r\\n            return \\'command\\'\\r\\n    else:\\r\\n        return \\'ctrl\\'\\r\\n    \\r\\n# Initalize progress bar and show it the notebook is ran standalone\\r\\ntry:\\r\\n    pr.value = 0\\r\\n    pr.style={\\'bar_color\\': None}\\r\\n    #pl.value = \"\"\\r\\nexcept:\\r\\n    pr = widgets.IntProgress(min=0,max=100,layout=widgets.Layout(width=\\'90%\\'), description=\"progress: \")\\r\\n    pl = widgets.Label(description=\"debug\")\\r\\n    pr.value = 0 \\r\\n# right click, create new view for output to have this as progress overview\\r\\nwidgets.VBox([pr,pl])'"
      ]
     },
     "execution_count": 48,
     "metadata": {},
     "output_type": "execute_result"
    }
   ],
   "source": [
    "# just run this script and copy and paste the output to scope cell:\n",
    "# create_workbookheader_string = \n",
    "workstring = pyperclip.paste()\n",
    "workstring"
   ]
  },
  {
   "cell_type": "code",
   "execution_count": null,
   "id": "03d117a2-b126-4d46-a81b-e21a5d975c26",
   "metadata": {
    "tags": []
   },
   "outputs": [],
   "source": [
    "# Jupyter-Automation Step Setup\n",
    "# Version: 0.1\n",
    "#\n",
    "# Default script to be used as a template for copying ready steps to Automation Notebooks\n",
    "# If the pattern is not found on screen Exception will break the workflow\n",
    "# by Kaspar Kallas 2023 (kaspar.kana.kallas@gmail.com)\n",
    "s = step(\n",
    "    '''''',\n",
    "    tries = 3,\n",
    "    timer = 1,\n",
    "    gate = 1,\n",
    "    bbox = None,\n",
    ")\n",
    "# Logic here\n",
    "for i in s.locations:\n",
    "    gui.click(i, clicks=1, button='left')\n",
    "    #gui.moveTo(i[0],i[1])                   # Just move the mouse no click\n",
    "    #pyperclip.copy(pyperclip.paste()+'\\n')  # Copy selected text, add newline character and copy back to clipboard\n",
    "    #gui.hotkey(os_ctrl(),'v')               # Keypress events\n",
    "    #%run ./subworkflowfile.ipynb            # Run another Notebook as subworkflow"
   ]
  },
  {
   "cell_type": "code",
   "execution_count": 108,
   "id": "f5209cbb-81fb-40fb-a431-0b16fd591942",
   "metadata": {},
   "outputs": [
    {
     "data": {
      "text/plain": [
       "[\"# Jupyter-Automation Step Setup\\r\\n# Version: 0.1\\r\\n#\\r\\n# Default script to be used as a template for copying ready steps to Automation Notebooks\\r\\n# If the pattern is not found on screen Exception will break the workflow\\r\\n# by Kaspar Kallas 2023 (kaspar.kana.kallas@gmail.com)\\r\\ns = step(\\r\\n    '''\",\n",
       " 'str(self.get_pattern_base64())',\n",
       " \"''',\\r\\n    tries = 3,\\r\\n    timer = 1,\\r\\n    gate = 1,\\r\\n    bbox = None,\\r\\n)\\r\\n# Logic here\\r\\nfor i in s.locations:\\r\\n    gui.click(i, clicks=1, button='left')\\r\\n    #gui.moveTo(i[0],i[1])                   # Just move the mouse no click\\r\\n    #pyperclip.copy(pyperclip.paste()+'\\\\n')  # Copy selected text, add newline character and copy back to clipboard\\r\\n    #gui.hotkey(os_ctrl(),'v')               # Keypress events\\r\\n    #%run ./subworkflowfile.ipynb            # Run another Notebook as subworkflow\"]"
      ]
     },
     "execution_count": 108,
     "metadata": {},
     "output_type": "execute_result"
    }
   ],
   "source": [
    "# just run this script and copy (without the outmost single qoutes) and paste the output to scope cell:\n",
    "# create_workbookheader_string = \n",
    "workstring = pyperclip.paste()\n",
    "\n",
    "# bitmap string\n",
    "start = workstring.find(\"\\'\\'\\'\")\n",
    "out_string_list = [workstring[:start+3],\"str(self.get_pattern_base64())\",workstring[start+3:]]\n",
    "\n",
    "out_string_list"
   ]
  },
  {
   "cell_type": "code",
   "execution_count": 118,
   "id": "673d3977-926e-48ff-bb26-c6761fc9f554",
   "metadata": {
    "tags": []
   },
   "outputs": [],
   "source": [
    "import time\n",
    "import pyautogui as gui\n",
    "import io\n",
    "import cv2\n",
    "import numpy as np\n",
    "import codecs\n",
    "import dill\n",
    "from ipywidgets import widgets, Image, Output\n",
    "\n",
    "#create_workbookheader_string = '# Empire AI Automation Setup\\r\\n# Version: 0.1\\r\\n#\\r\\n# Copy and paste this as 1st cell into Your workbook to start making automation notebook\\r\\n# Use the #Factory# page to create new steps\\r\\n# More videos and tutorials @link\\r\\n# by Kaspar Kallas 2023 (kaspar.kana.kallas@gmail.com)\\r\\n\\r\\ntry:\\r\\n    test = time.time()\\r\\nexcept:\\r\\n    import pyperclip\\r\\n    import platform\\r\\n    import time\\r\\n    import pyautogui as gui\\r\\n    import io\\r\\n    import cv2\\r\\n    import numpy as np\\r\\n    import codecs\\r\\n    import dill\\r\\n    import pandas as pd\\r\\n    import pyarrow.feather as feather\\r\\n    from ipywidgets import widgets, Image, Output\\r\\n\\r\\nclass step:\\r\\n    \"\"\"\\r\\n    Empire AI step protocol 0.1\\r\\n    Inputs step(\\'\\'\\'xxx\\'\\'\\', tries=3, timer=1, gate=1, bbox=None)\\r\\n    Output step.locations (tuples of x,y in screen space)\\r\\n    \\r\\n    \"\"\"\\r\\n    def __init__(self, payload, tries=3, timer=1, gate=1, bbox=None, kill_on_fail=True):\\r\\n        self.payloads = dill.loads(codecs.decode(payload.encode(), \"base64\"))\\r\\n        self.pattern_img = self.payloads[0]\\r\\n        self.offset = self.payloads[1]\\r\\n        self.kill_on_fail = kill_on_fail\\r\\n        self.version = 0.1\\r\\n        \\r\\n        # Try to find the pattern\\r\\n        for counter in range(tries):\\r\\n            self._find_()\\r\\n            # If enough instances have been found break out of the loop and execute next cell\\r\\n            if len(self.locations) >= gate:\\r\\n                print(\"found: \"+str(self.locations))\\r\\n                break\\r\\n            else:\\r\\n                time.sleep(timer)\\r\\n        \\r\\n        # If the pattern is not found within timeout\\r\\n        if len(self.locations) < gate:\\r\\n            pr.style={\\'bar_color\\': \\'#800000\\'}\\r\\n            pl.value=\"[STOPPED] could not find\"\\r\\n            print(\"EXCEPTION: Gate condition not met!\")\\r\\n            if kill_on_fail:\\r\\n                pr.style={\\'bar_color\\': \\'#808000\\'}\\r\\n                raise Exception(\"Gate condition not met!\")\\r\\n        \\r\\n    def _find_(self):\\r\\n        \"\"\"\\r\\n        Find pattern on the screen as many instances as possible\\r\\n        save all found locations into self.locations with correct click offset\\r\\n        \"\"\"\\r\\n        \\r\\n        self.locations = []\\r\\n        locations_found = gui.locateAllOnScreen(self.pattern_img)\\r\\n        offset = self.payloads[1]\\r\\n        \\r\\n        for loc in locations_found:\\r\\n            self.locations.append((loc.left+offset[0],loc.top+offset[1]))\\r\\n            \\r\\ndef os_ctrl(short=False):\\r\\n    \"\"\"\\r\\n    Control buton string replacement to be used with pyautogui lib\\r\\n    in win/linux it is ctrl and osx cmd/command\\r\\n    \"\"\"\\r\\n    if platform.system() == \\'Darwin\\':\\r\\n        if short:\\r\\n            return \\'cmd\\'\\r\\n        else:\\r\\n            return \\'command\\'\\r\\n    else:\\r\\n        return \\'ctrl\\'\\r\\n    \\r\\n# Initalize progress bar and show it the notebook is ran standalone\\r\\ntry:\\r\\n    pr.value = 0\\r\\n    pr.style={\\'bar_color\\': None}\\r\\n    #pl.value = \"\"\\r\\nexcept:\\r\\n    pr = widgets.IntProgress(min=0,max=100,layout=widgets.Layout(width=\\'90%\\'), description=\"progress: \")\\r\\n    pl = widgets.Label(description=\"debug\")\\r\\n    pr.value = 0 \\r\\n# right click, create new view for output to have this as progress overview\\r\\nwidgets.VBox([pr,pl])'\n",
    "create_automationstep_string_list = [\"# Jupyter-Automation Step Setup\\r\\n# Version: 0.1\\r\\n#\\r\\n# Default script to be used as a template for copying ready steps to Automation Notebooks\\r\\n# If the pattern is not found on screen Exception will break the workflow\\r\\n# by Kaspar Kallas 2023 (kaspar.kana.kallas@gmail.com)\\r\\ns = step(\\r\\n    '''\",\n",
    "                                        \"str(pattern_base64)\",\n",
    "                                        \"''',\\r\\n    tries = 3,\\r\\n    timer = 1,\\r\\n    gate = 1,\\r\\n    bbox = None,\\r\\n)\\r\\n# Logic here\\r\\nfor i in s.locations:\\r\\n    gui.click(i, clicks=1, button='left')\\r\\n    #gui.moveTo(i[0],i[1])                   # Just move the mouse no click\\r\\n    #pyperclip.copy(pyperclip.paste()+'\\\\n')  # Copy selected text, add newline character and copy back to clipboard\\r\\n    #gui.hotkey(os_ctrl(),'v')               # Keypress events\\r\\n    #%run ./subworkflowfile.ipynb            # Run another Notebook as subworkflow\",\n",
    "                                    ]\n",
    "class scope():\n",
    "\n",
    "    \"\"\"\n",
    "    scope is an object to create the workflow step remotley using Jupyter-Lab editor remotly using VPN\n",
    "    \"\"\"\n",
    "    @property\n",
    "    def window(self):\n",
    "        return self._window\n",
    "    \n",
    "    @window.setter\n",
    "    def window(self, val_in):\n",
    "        self._window = (val_in[0],val_in[1])\n",
    "        # set width and height\n",
    "        self.width = self._window[0][1]-self._window[0][0]\n",
    "        self.height = self._window[1][1]-self._window[1][0]\n",
    "    \n",
    "    def __init__(self, img=None, window=None, area=None, location=None):\n",
    "        # set the full size image for the step, if no image is provided screenshot is taken automatically\n",
    "        if img==None:\n",
    "            self.screenshot = gui.screenshot()\n",
    "            self.size = self.screenshot.size\n",
    "        else:\n",
    "            # ToDo\n",
    "            print(\"!!!! ACHTUNG TOfDO !!!!\")\n",
    "            print(\"it all mnight be bit wier from here on out, You are on YOUR own\")\n",
    "            self.screenshot = img\n",
    "            self.size = self.screenshot.size\n",
    "        \n",
    "        # area of interest, smallest possible area of the sceren to understand what the step tries to accomplish and if some UI elements change it would be asy to identify the issue and solev it\n",
    "        if not(window==None):\n",
    "            self.window = window\n",
    "        else:\n",
    "            # make the windiw by default 320x320 top, left corner\n",
    "            self.window = ((0,0),(320,320))\n",
    "        \n",
    "        # area is the subset of window that is uesed as key (looked in end-user computer screen) during step execution.\n",
    "        if not(area == None):\n",
    "            self.area = area \n",
    "        else:\n",
    "            self.area = ((self.height/2-30,self.width/2-30),(self.height/2+30,self.width/2+30))\n",
    "            \n",
    "        self.area_color = (0,255,255)\n",
    "        self.area_outline_color = (0,0,255)\n",
    "            \n",
    "        if not(location == None):\n",
    "            self.location = location\n",
    "        else:\n",
    "            self.location = (0,0)\n",
    "            \n",
    "        self.location_size = 10\n",
    "        self.location_color = (255,255,0)\n",
    "        \n",
    "        # Generate GUI\n",
    "        self.output = Output()\n",
    "        self.slider_h = widgets.IntRangeSlider(max=self.size[0], value=(0,320),layout=widgets.Layout(width='90%'),observe=self._update_preview)\n",
    "        self.slider_v = widgets.IntRangeSlider(max=self.size[1], value=(0,320),layout=widgets.Layout(width='90%'),observe=self._update_preview)\n",
    "        \n",
    "        self.offset_x = widgets.IntSlider(max=320//2, min=320//-2, value=0, layout=widgets.Layout(width='90%'),observe=self._update_preview)\n",
    "        self.offset_y = widgets.IntSlider(max=320//2, min=320//-2, value=0, layout=widgets.Layout(width='90%'),observe=self._update_preview)\n",
    "        \n",
    "        self.slider_area_h = widgets.IntRangeSlider(max=320//2, min=320//-2, value=(-32,32), layout=widgets.Layout(width='90%'),observe=self._update_preview)\n",
    "        self.slider_area_v = widgets.IntRangeSlider(max=320//2, min=320//-2, value=(-32,32), layout=widgets.Layout(width='90%'),observe=self._update_preview)\n",
    "        \n",
    "        self.image = widgets.Image()\n",
    "        self._update_preview(None)\n",
    "        \n",
    "        # Add callback functionality\n",
    "        self.slider_h.observe(self._update_preview)\n",
    "        self.slider_v.observe(self._update_preview)\n",
    "        self.offset_x.observe(self._update_preview)\n",
    "        self.offset_y.observe(self._update_preview)\n",
    "        self.slider_area_h.observe(self._update_preview)\n",
    "        self.slider_area_v.observe(self._update_preview)\n",
    "        \n",
    "        # Tabbed view for simpler controls\n",
    "        tab_contents = ['Crop', 'Region', 'Mouse']\n",
    "        children = [widgets.VBox([\n",
    "            widgets.Label(value=\"Width:\"),\n",
    "            self.slider_h,\n",
    "            widgets.Label(value=\"Height:\"),\n",
    "            self.slider_v\n",
    "        ]),widgets.VBox([\n",
    "            widgets.Label(value=\"Area Width:\"),\n",
    "            self.slider_area_h,\n",
    "            widgets.Label(value=\"Area Height:\"),\n",
    "            self.slider_area_v\n",
    "        ]),widgets.VBox([\n",
    "            widgets.Label(value=\"X pos:\"),\n",
    "            self.offset_x,\n",
    "            widgets.Label(value=\"Y pos:\"),\n",
    "            self.offset_y\n",
    "        ])]\n",
    "        \n",
    "        tab = widgets.Tab()\n",
    "        tab.children = children\n",
    "        tab.titles = ['Crop', 'Region', 'Mouse']\n",
    "        \n",
    "        btn1 = widgets.Button(description=\"Copy Automation Setup\")\n",
    "        \n",
    "        def _onclick1_(b):\n",
    "            pyperclip.copy(create_workbookheader_string)         \n",
    "        \n",
    "        btn1.on_click(_onclick1_)\n",
    "        \n",
    "        btn2 = widgets.Button(description=\"Copy Step Setup\")\n",
    "        \n",
    "        def _onclick2_(b):\n",
    "            # Empire AI Automation Step Setup\n",
    "            pattern_base64 = self.get_pattern_base64()\n",
    "            create_automationstep_string_list[1] = eval('str('+create_automationstep_string_list[1]+\")\")\n",
    "            stepstring = ''.join(create_automationstep_string_list)\n",
    "            pyperclip.copy(stepstring)\n",
    "        \n",
    "        btn2.on_click(_onclick2_)\n",
    "        \n",
    "        btn3 = widgets.Button(description=\"Grab new desktop\")\n",
    "        \n",
    "        def _onclick3_(b):\n",
    "            self.screenshot = gui.screenshot()\n",
    "            self._update_preview(None)\n",
    "            \n",
    "        btn3.on_click(_onclick3_)\n",
    "        \n",
    "        btn4 = widgets.Button(description=\"Click\")\n",
    "        \n",
    "        def _onclick4_(b):\n",
    "            v_offset = self.slider_h.value[0]+((self.slider_h.value[1]-self.slider_h.value[0])//2)+self.offset_x.value\n",
    "            h_offset = self.slider_v.value[0]+((self.slider_v.value[1]-self.slider_v.value[0])//2)+self.offset_y.value\n",
    "            gui.click(v_offset, h_offset)\n",
    "            \n",
    "        btn4.on_click(_onclick4_)\n",
    "        \n",
    "        btn5 = widgets.Button(description=\"Click 'n grab\")\n",
    "        \n",
    "        def _onclick5_(b):\n",
    "            # Click and grab new image of the opened menu\n",
    "            _onclick4_(None)\n",
    "            time.sleep(0.2)\n",
    "            _onclick3_(None)\n",
    "            \n",
    "        btn5.on_click(_onclick5_)\n",
    "     \n",
    "        display(\n",
    "            tab,\n",
    "            widgets.Label(value=\"Out:\"),\n",
    "            self.image, \n",
    "            self.output,\n",
    "            # add buttons to take the final\n",
    "            widgets.HBox([widgets.VBox([btn1,btn2]),widgets.VBox([btn3,btn4,btn5])]),\n",
    "        )\n",
    "        \n",
    "    def _update_preview(self, event):\n",
    "        # return image with crop, mouse location and unique area\n",
    "        \n",
    "        # make sure width and height are at minimu 128px\n",
    "        self.width = self.slider_h.value[1]-self.slider_h.value[0]\n",
    "        self.height = self.slider_v.value[1]-self.slider_v.value[0]\n",
    "        \n",
    "        if self.width < 128:\n",
    "            self.slider_h.value = (self.slider_h.value[0], self.slider_h.value[0] + 128)\n",
    "            \n",
    "        if self.height < 128:\n",
    "            self.slider_v.value = (self.slider_v.value[0], self.slider_v.value[0] + 128)\n",
    "        \n",
    "        \n",
    "        # update variables\n",
    "        self.window = ((self.slider_h.value[0],self.slider_v.value[0]),(self.slider_h.value[1],self.slider_v.value[1]))\n",
    "        \n",
    "        \n",
    "        # TODO make stter for self.window to updtae the width and height\n",
    "        self.width = self.slider_h.value[1] - self.slider_h.value[0]\n",
    "        self.height = self.slider_v.value[1] - self.slider_v.value[0]\n",
    "        # update sliders as well\n",
    "        self.offset_x.min = self.width//-2\n",
    "        self.offset_x.max = self.width//2\n",
    "        self.offset_y.min = self.height//-2\n",
    "        self.offset_y.max = self.height//2\n",
    "        self.slider_area_h.min = self.width//-2\n",
    "        self.slider_area_h.max = self.width//2\n",
    "        self.slider_area_v.min = self.height//-2\n",
    "        self.slider_area_v.max = self.height//2\n",
    "        \n",
    "        self.location = (self.offset_x.value, self.offset_y.value)\n",
    "        self.area = ((self.slider_area_h.value[0],self.slider_area_v.value[0]),(self.slider_area_h.value[1],self.slider_area_v.value[1]))\n",
    "        \n",
    "        # update image based on new variables\n",
    "        self.cropped = self.screenshot.crop((self.window[0][0],self.window[0][1],self.window[1][0],self.window[1][1]))\n",
    "        \n",
    "        # draw cross\n",
    "        x_pos = (self.cropped.size[0]//2-1)+self.location[0]\n",
    "        y_pos = (self.cropped.size[1]//2-1)+self.location[1]\n",
    "        cropped_cv2 = cv2.cvtColor(np.asarray(self.cropped), cv2.COLOR_BGR2RGB)\n",
    "        \n",
    "        self.edited = cv2.line(cropped_cv2,(x_pos,y_pos-self.location_size),(x_pos,y_pos+self.location_size),self.location_color,2)\n",
    "        self.edited = cv2.line(self.edited,(x_pos-self.location_size,y_pos),(x_pos+self.location_size,y_pos),self.location_color,2)\n",
    "               \n",
    "        # Draw Area Marker\n",
    "        self.transparent = np.zeros((self.height, self.width, 3), dtype=np.uint8)\n",
    "        cv2.rectangle(self.transparent, (int(self.width//2+self.area[0][0]),int(self.height//2+self.area[0][1])), (int(self.width//2+self.area[1][0]),int(self.height//2+self.area[1][1])), self.area_color, -1)\n",
    "        self.edited = cv2.addWeighted(self.edited, 1, self.transparent, 0.1, 2.2)\n",
    "        cv2.rectangle(self.edited, (int(self.width//2+self.area[0][0]),int(self.height//2+self.area[0][1])), (int(self.width//2+self.area[1][0]),int(self.height//2+self.area[1][1])), self.area_outline_color, 1)\n",
    "        \n",
    "        # Convert buffer to PNG bytearray\n",
    "        self.buf = io.BytesIO(cv2.imencode('.png', self.edited)[1].tobytes())\n",
    "\n",
    "        self.image.format = 'PNG'\n",
    "        self.image.value = self.buf.getvalue()\n",
    "    \n",
    "    def get_pattern(self):\n",
    "        crop_x = self.width//2+self.area[0][0]+self.window[0][0]\n",
    "        crop_y = self.height//2+self.area[0][1]+self.window[0][1]\n",
    "        crop_w = self.area[1][0]-self.area[0][0]\n",
    "        crop_h = self.area[1][1]-self.area[0][1]\n",
    "        \n",
    "        crp = self.screenshot.crop((\n",
    "            crop_x,\n",
    "            crop_y,\n",
    "            crop_x+crop_w,\n",
    "            crop_y+crop_h\n",
    "        ))\n",
    "        \n",
    "        return crp\n",
    "    \n",
    "    def get_pattern_base64(self):\n",
    "        v_offset = self.offset_x.value-self.slider_area_h.value[0]\n",
    "        h_offset = self.offset_y.value-self.slider_area_v.value[0]\n",
    "        answer = (self.get_pattern(),(v_offset,h_offset))\n",
    "        print(\"v: \"+str(v_offset)+\" h: \"+str(h_offset))\n",
    "        return codecs.encode(dill.dumps(answer),\"base64\").decode().replace('\\n','')\n",
    "    \n",
    "    def get_metadata(self):\n",
    "        crop_x = self.width//2+self.area[0][0]+self.window[0][0]\n",
    "        crop_y = self.height//2+self.area[0][1]+self.window[0][1]\n",
    "        crop_w = self.area[1][0]-self.area[0][0]\n",
    "        crop_h = self.area[1][1]-self.area[0][1]\n",
    "        \n",
    "        \n",
    "        print(\"full image size: \"+str(self.screenshot.size))\n",
    "        print(\"pattern crop window: \"+str((\n",
    "            crop_x,\n",
    "            crop_y,\n",
    "            crop_w,\n",
    "            crop_h\n",
    "        )))\n",
    "        crp = self.get_pattern()\n",
    "        display(crp)\n",
    "        \n",
    "        all_found = gui.locateAllOnScreen(self.get_pattern())\n",
    "        for item in all_found:\n",
    "            print(\"    \"+str(item))\n",
    "        \n",
    "        \n",
    "        print(\"mouse location compared to center point of the found pattern: \"+str((\n",
    "            (crop_w//2+crop_x)-(self.window[1][0]//2)-(self.window[0][0]//2)+self.location[0],\n",
    "            (crop_h//2+crop_y)-(self.window[1][1]//2)-(self.window[0][1]//2)+self.location[1]\n",
    "        )))\n",
    "\n",
    "# Copy the following line when You want to make a screenshot\n",
    "#w.step = scope\n"
   ]
  },
  {
   "cell_type": "markdown",
   "id": "5bb825a7-3374-4bc4-8edb-35344d52105a",
   "metadata": {},
   "source": [
    "## Factory\n",
    "\n",
    "Here You can create automation steps quickly and easyly\n",
    "We try to collect all re-usable code in the setup area, if anything needs updated it would stay on the same page\n",
    "\n",
    "below factory we could make cheat sheet and some useful example workflows"
   ]
  },
  {
   "cell_type": "code",
   "execution_count": 119,
   "id": "51121bdd-d4e9-4d75-a673-7397ed0ade97",
   "metadata": {},
   "outputs": [
    {
     "data": {
      "application/vnd.jupyter.widget-view+json": {
       "model_id": "af83af9d22fa47fa8b83e12b91817136",
       "version_major": 2,
       "version_minor": 0
      },
      "text/plain": [
       "Tab(children=(VBox(children=(Label(value='Width:'), IntRangeSlider(value=(0, 320), layout=Layout(width='90%'),…"
      ]
     },
     "metadata": {},
     "output_type": "display_data"
    },
    {
     "data": {
      "application/vnd.jupyter.widget-view+json": {
       "model_id": "3c8c3cec95ca467089553b202969e037",
       "version_major": 2,
       "version_minor": 0
      },
      "text/plain": [
       "Label(value='Out:')"
      ]
     },
     "metadata": {},
     "output_type": "display_data"
    },
    {
     "data": {
      "application/vnd.jupyter.widget-view+json": {
       "model_id": "c12737802fe54f9e9a2a41f64e78dd71",
       "version_major": 2,
       "version_minor": 0
      },
      "text/plain": [
       "Image(value=b'\\x89PNG\\r\\n\\x1a\\n\\x00\\x00\\x00\\rIHDR\\x00\\x00\\x01@\\x00\\x00\\x01@\\x08\\x02\\x00\\x00\\x00B\\xf22\\xfd\\x00\\…"
      ]
     },
     "metadata": {},
     "output_type": "display_data"
    },
    {
     "data": {
      "application/vnd.jupyter.widget-view+json": {
       "model_id": "7faa27b7264c4000859f8e30b3f0960c",
       "version_major": 2,
       "version_minor": 0
      },
      "text/plain": [
       "Output()"
      ]
     },
     "metadata": {},
     "output_type": "display_data"
    },
    {
     "data": {
      "application/vnd.jupyter.widget-view+json": {
       "model_id": "4dd2d872c4344471acb235333bcad7be",
       "version_major": 2,
       "version_minor": 0
      },
      "text/plain": [
       "HBox(children=(VBox(children=(Button(description='Copy Automation Setup', style=ButtonStyle()), Button(descrip…"
      ]
     },
     "metadata": {},
     "output_type": "display_data"
    }
   ],
   "source": [
    "step = scope()"
   ]
  },
  {
   "cell_type": "code",
   "execution_count": null,
   "id": "cbf53997-ad8c-48ee-91f7-67796a7a7bcb",
   "metadata": {},
   "outputs": [],
   "source": [
    "time.sleep(4)\n",
    "screenshot = gui.screenshot()"
   ]
  },
  {
   "cell_type": "code",
   "execution_count": null,
   "id": "6a369609-106a-4b24-9844-f2a5c52ab921",
   "metadata": {},
   "outputs": [],
   "source": [
    "w.step = scope(screenshot)"
   ]
  },
  {
   "cell_type": "code",
   "execution_count": 117,
   "id": "08325abd-0f9c-476f-b53f-73ff1f82235e",
   "metadata": {},
   "outputs": [
    {
     "name": "stdout",
     "output_type": "stream",
     "text": [
      "found: [(160, 160)]\n"
     ]
    }
   ],
   "source": [
    "# Jupyter-Automation Step Setup\n",
    "# Version: 0.1\n",
    "#\n",
    "# Default script to be used as a template for copying ready steps to Automation Notebooks\n",
    "# If the pattern is not found on screen Exception will break the workflow\n",
    "# by Kaspar Kallas 2023 (kaspar.kana.kallas@gmail.com)\n",
    "s = step(\n",
    "    '''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''',\n",
    "    tries = 3,\n",
    "    timer = 1,\n",
    "    gate = 1,\n",
    "    bbox = None,\n",
    ")\n",
    "# Logic here\n",
    "for i in s.locations:\n",
    "    gui.click(i, clicks=1, button='left')\n",
    "    #gui.moveTo(i[0],i[1])                   # Just move the mouse no click\n",
    "    #pyperclip.copy(pyperclip.paste()+'\\n')  # Copy selected text, add newline character and copy back to clipboard\n",
    "    #gui.hotkey(os_ctrl(),'v')               # Keypress events\n",
    "    #%run ./subworkflowfile.ipynb            # Run another Notebook as subworkflow"
   ]
  },
  {
   "cell_type": "code",
   "execution_count": null,
   "id": "64233498-c21d-4f4f-8b75-268ca120a894",
   "metadata": {},
   "outputs": [],
   "source": []
  }
 ],
 "metadata": {
  "kernelspec": {
   "display_name": "Python 3 (ipykernel)",
   "language": "python",
   "name": "python3"
  },
  "language_info": {
   "codemirror_mode": {
    "name": "ipython",
    "version": 3
   },
   "file_extension": ".py",
   "mimetype": "text/x-python",
   "name": "python",
   "nbconvert_exporter": "python",
   "pygments_lexer": "ipython3",
   "version": "3.10.7"
  }
 },
 "nbformat": 4,
 "nbformat_minor": 5
}
