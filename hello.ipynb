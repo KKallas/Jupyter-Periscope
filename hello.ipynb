{
 "cells": [
  {
   "cell_type": "code",
   "execution_count": 3,
   "id": "a1863a3a-c8d2-4c16-be03-125580084e58",
   "metadata": {},
   "outputs": [
    {
     "name": "stdout",
     "output_type": "stream",
     "text": [
      "Findig pattern...\n",
      "Starting step...\n",
      "no locations found\n"
     ]
    }
   ],
   "source": [
    "%run WorkflowTest.ipynb"
   ]
  },
  {
   "cell_type": "code",
   "execution_count": 4,
   "id": "27056d24-26c2-45ba-8478-3f613e221207",
   "metadata": {},
   "outputs": [
    {
     "data": {
      "text/plain": [
       "'my super secret string'"
      ]
     },
     "execution_count": 4,
     "metadata": {},
     "output_type": "execute_result"
    }
   ],
   "source": [
    "my_test_var"
   ]
  },
  {
   "cell_type": "code",
   "execution_count": null,
   "id": "1654cfa5-c40f-44c7-90ea-7e0f2b48293d",
   "metadata": {},
   "outputs": [],
   "source": []
  }
 ],
 "metadata": {
  "kernelspec": {
   "display_name": "Python 3 (ipykernel)",
   "language": "python",
   "name": "python3"
  },
  "language_info": {
   "codemirror_mode": {
    "name": "ipython",
    "version": 3
   },
   "file_extension": ".py",
   "mimetype": "text/x-python",
   "name": "python",
   "nbconvert_exporter": "python",
   "pygments_lexer": "ipython3",
   "version": "3.10.7"
  }
 },
 "nbformat": 4,
 "nbformat_minor": 5
}
